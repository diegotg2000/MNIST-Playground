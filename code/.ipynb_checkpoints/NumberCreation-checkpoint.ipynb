{
 "cells": [
  {
   "cell_type": "code",
   "execution_count": 1,
   "metadata": {},
   "outputs": [],
   "source": [
    "import numpy as np\n",
    "import pandas as pd\n",
    "import tensorflow as tf\n",
    "import tensorflow.keras.layers as L\n",
    "import tensorflow.keras.models as M\n",
    "from tensorflow.keras.metrics import SparseCategoricalAccuracy, SparseCategoricalCrossentropy, Accuracy\n",
    "from tensorflow.keras.losses import sparse_categorical_crossentropy\n",
    "from tqdm import tqdm\n",
    "\n",
    "\n",
    "gpus = tf.config.experimental.list_physical_devices('GPU')\n",
    "tf.config.experimental.set_virtual_device_configuration(gpus[0], [tf.config.experimental.VirtualDeviceConfiguration(memory_limit=2048)])\n",
    "\n",
    "def give_cnn_block(kernel_size=3, filters=64, n=0):\n",
    "    \n",
    "    model = M.Sequential([L.Conv2D(filters, kernel_size), L.BatchNormalization(), L.ReLU()], name=f'cnn_block_{n}')\n",
    "    \n",
    "    return model\n",
    "\n",
    "\n",
    "def give_ffl():    \n",
    "    \n",
    "    model = M.Sequential([L.Dense(64, activation='relu'), L.Dropout(0.2), L.Dense(10)], name='feed_forward')  \n",
    "    \n",
    "    return model\n",
    "\n",
    "\n",
    "class FeatureExtractorCNN(M.Model):\n",
    "    def __init__(self, kernels, filters):\n",
    "        \n",
    "        assert len(kernels) == len(filters), \"Kernels and filters must have the same size\"\n",
    "        \n",
    "        super(FeatureExtractorCNN, self).__init__()\n",
    "        \n",
    "        self.cnn_blocks = [give_cnn_block(k, f, i) for i, (k, f) in enumerate(zip(kernels, filters))]\n",
    "        \n",
    "        self.gba = L.GlobalAveragePooling2D()\n",
    "        \n",
    "    \n",
    "    def call(self, inputs, training):\n",
    "        x = inputs\n",
    "        for i, cnn in enumerate(self.cnn_blocks):\n",
    "            x = cnn(x, training)\n",
    "        \n",
    "        x = self.gba(x)\n",
    "        \n",
    "        return x        \n",
    "        \n",
    "        \n",
    "\n",
    "class ClassCNN(M.Model):\n",
    "    \n",
    "    def __init__(self, kernels, filters):\n",
    "        \n",
    "        super(ClassCNN, self).__init__()\n",
    "        \n",
    "        self.feature_extractor = FeatureExtractorCNN(kernels, filters)\n",
    "        \n",
    "        self.head = give_ffl()\n",
    "        \n",
    "    def call(self, inputs, training=False):\n",
    "        x = inputs/255.\n",
    "        \n",
    "        x = self.feature_extractor(x, training)\n",
    "        \n",
    "        return self.head(x, training)\n",
    "            \n",
    "    def fit(self, train_ds, val_ds, optimizer, epochs=5):\n",
    "        \n",
    "        accuracy = SparseCategoricalAccuracy()\n",
    "        crossentropy = SparseCategoricalCrossentropy(from_logits=True)\n",
    "\n",
    "        for epoch in range(epochs):\n",
    "\n",
    "            print(f'Training on epoch {epoch+1}:')\n",
    "\n",
    "            for batch, (images, labels) in tqdm(enumerate(train_ds)):\n",
    "\n",
    "                with tf.GradientTape() as tape:\n",
    "\n",
    "                    preds = self(images, training=True)\n",
    "\n",
    "                    loss = sparse_categorical_crossentropy(labels, preds, from_logits=True)\n",
    "\n",
    "                grads = tape.gradient(loss, self.trainable_weights)\n",
    "                \n",
    "\n",
    "                optimizer.apply_gradients(zip(grads, self.trainable_weights))\n",
    "\n",
    "                accuracy.update_state(labels, preds)\n",
    "\n",
    "                crossentropy.update_state(labels, preds)\n",
    "\n",
    "            print(f'TrainLoss: {crossentropy.result()}, TrainAcc: {accuracy.result()}')\n",
    "            accuracy.reset_states()\n",
    "            crossentropy.reset_states()\n",
    "\n",
    "            for batch, (images, labels) in tqdm(enumerate(val_ds)):\n",
    "\n",
    "                preds = self(images)\n",
    "\n",
    "                accuracy.update_state(labels, preds)\n",
    "\n",
    "                crossentropy.update_state(labels, preds)\n",
    "\n",
    "            print(f'ValLoss: {crossentropy.result()}, ValAcc: {accuracy.result()}')\n",
    "            accuracy.reset_states()\n",
    "            crossentropy.reset_states()  \n",
    "            \n",
    "\n",
    "def contrastive_loss_fn(y_true, preds, margin=1):\n",
    "    \n",
    "    y = tf.cast(y_true, preds.dtype)\n",
    "    \n",
    "    return 0.5*y*preds**2 + 0.5*(1-y)*tf.math.square(tf.math.maximum(margin-preds, 0))\n",
    "\n",
    "            \n",
    "class ContrastiveCNN(M.Model):\n",
    "    \n",
    "    def __init__(self, emb_dim = 64, margin=1.0, extractor=None, kernels=None, filters=None):\n",
    "        \n",
    "        super(ContrastiveCNN, self).__init__()\n",
    "        \n",
    "        if extractor is not None:\n",
    "        \n",
    "            self.feature_extractor = extractor\n",
    "            \n",
    "        elif (kernels is not None) and (filters is not None):\n",
    "            \n",
    "            self.feature_extractor = FeatureExtractorCNN(kernels, filters)\n",
    "            \n",
    "        else: \n",
    "            raise Exception(\"Neither extractor nor kernels and filters passed\")\n",
    "        \n",
    "        self.head = L.Dense(emb_dim, use_bias=False)\n",
    "        \n",
    "        self.margin = margin\n",
    "        \n",
    "    def call(self, inputs, training=False):\n",
    "        x = inputs/255.\n",
    "        \n",
    "        x = self.feature_extractor(x, training)\n",
    "        \n",
    "        return self.head(x)\n",
    "            \n",
    "    def fit(self, train_ds, val_ds, optimizer, epochs=5):\n",
    "        \n",
    "        accuracy = Accuracy()\n",
    "\n",
    "        for epoch in range(epochs):\n",
    "\n",
    "            print(f'Training on epoch {epoch+1}:')\n",
    "\n",
    "            for batch, (image1, image2, labels) in tqdm(enumerate(train_ds)):\n",
    "\n",
    "                with tf.GradientTape() as tape:\n",
    "\n",
    "                    emb1, emb2 = self(image1, training=True), self(image2, training=True)\n",
    "                    \n",
    "                    preds = tf.math.sqrt(tf.math.reduce_sum(tf.math.square(emb1-emb2), axis=1))\n",
    "\n",
    "                    loss = contrastive_loss_fn(labels, preds, margin=self.margin)\n",
    "\n",
    "                grads = tape.gradient(loss, self.trainable_weights)\n",
    "                \n",
    "                optimizer.apply_gradients(zip(grads, self.trainable_weights))\n",
    "\n",
    "                accuracy.update_state(labels, tf.where(preds<self.margin, 1, 0))\n",
    "\n",
    "\n",
    "            print(f'TrainAcc: {accuracy.result()}')\n",
    "            accuracy.reset_states()\n",
    "\n",
    "            for batch, (image1, image2, labels) in tqdm(enumerate(val_ds)):\n",
    "\n",
    "                emb1, emb2 = self(image1), self(image2)\n",
    "\n",
    "                preds = tf.math.sqrt(tf.math.reduce_sum(tf.math.square(emb1-emb2), axis=1))\n",
    "\n",
    "                accuracy.update_state(labels, tf.where(preds<self.margin, 1, 0))\n",
    "\n",
    "\n",
    "            print(f'ValAcc: {accuracy.result()}')\n",
    "            accuracy.reset_states()\n"
   ]
  },
  {
   "cell_type": "code",
   "execution_count": 12,
   "metadata": {},
   "outputs": [],
   "source": [
    "contrastive_df = pd.read_csv('../src/contrastive.csv')"
   ]
  },
  {
   "cell_type": "code",
   "execution_count": 17,
   "metadata": {},
   "outputs": [],
   "source": [
    "import matplotlib.pyplot as plt\n",
    "import PIL\n",
    "plt.style.use('dark_background')"
   ]
  },
  {
   "cell_type": "code",
   "execution_count": 18,
   "metadata": {},
   "outputs": [
    {
     "data": {
      "image/png": "[encoded data removed]",
      "text/plain": [
       "<Figure size 432x648 with 6 Axes>"
      ]
     },
     "metadata": {},
     "output_type": "display_data"
    }
   ],
   "source": [
    "size = 3\n",
    "samples = 3\n",
    "fig, axes = plt.subplots(3, 2, figsize=(2*size, 3*size))\n",
    "for n, (path1, path2, label) in enumerate(contrastive_df.sample(samples).values):  \n",
    "    ax1, ax2 = axes[n]\n",
    "    im1 = np.asarray(PIL.Image.open(path1))\n",
    "    im2 = np.asarray(PIL.Image.open(path2))\n",
    "    ax1.imshow(im1, cmap='binary')\n",
    "    ax2.imshow(im2, cmap='binary')\n",
    "    ax1.set_title(label)\n",
    "    ax2.set_title(label)\n",
    "    \n",
    "plt.tight_layout()"
   ]
  },
  {
   "cell_type": "code",
   "execution_count": 22,
   "metadata": {},
   "outputs": [
    {
     "name": "stdout",
     "output_type": "stream",
     "text": [
      "WARNING:tensorflow:No training configuration found in save file, so the model was *not* compiled. Compile it manually.\n"
     ]
    }
   ],
   "source": [
    "class_cnn = tf.keras.models.load_model(\n",
    "    \"../models/class_model\", custom_objects={\"ClasSCNN\": ClassCNN}\n",
    ")"
   ]
  },
  {
   "cell_type": "code",
   "execution_count": 23,
   "metadata": {},
   "outputs": [],
   "source": [
    "inputs = tf.random.normal((1,28,28,1))\n",
    "_ = class_cnn(inputs)"
   ]
  },
  {
   "cell_type": "code",
   "execution_count": 29,
   "metadata": {},
   "outputs": [
    {
     "data": {
      "text/plain": [
       "<tf.Tensor: shape=(1, 10), dtype=float32, numpy=\n",
       "array([[11.386851  , -7.4624043 , -4.3271103 , -7.8569703 , -6.871051  ,\n",
       "        -6.374831  , -2.706965  , -5.239645  , -0.12155916,  1.025658  ]],\n",
       "      dtype=float32)>"
      ]
     },
     "execution_count": 29,
     "metadata": {},
     "output_type": "execute_result"
    }
   ],
   "source": [
    "class_cnn(np.expand_dims(im2, (0,3)).astype(float))"
   ]
  },
  {
   "cell_type": "code",
   "execution_count": 46,
   "metadata": {},
   "outputs": [],
   "source": [
    "class_cnn.trainable=False"
   ]
  },
  {
   "cell_type": "code",
   "execution_count": 130,
   "metadata": {},
   "outputs": [],
   "source": [
    "optimizer = tf.keras.optimizers.Adam()"
   ]
  },
  {
   "cell_type": "code",
   "execution_count": 132,
   "metadata": {},
   "outputs": [],
   "source": [
    "def give_image(number):\n",
    "    image = tf.Variable(tf.random.uniform(shape=(1,28,28,1)))\n",
    "    one_hot = np.zeros(10)\n",
    "    one_hot[number] = 1\n",
    "    one_hot = tf.constant(one_hot, dtype=float)\n",
    "    \n",
    "    def forward(image):\n",
    "        x = tf.multiply(image, 255)\n",
    "        x = tf.squeeze(class_cnn(x))\n",
    "        return tf.tensordot(x, one_hot, axes=1)\n",
    "    \n",
    "    for n in tqdm(range(10000)):\n",
    "        with tf.GradientTape() as tape:\n",
    "            loss = forward(image)\n",
    "        grad = tape.gradient(loss, image) \n",
    "        #print(grad)\n",
    "    #     print(grad.shape)\n",
    "    #     print(image.shape)\n",
    "        optimizer.apply_gradients([(-grad, image)])\n",
    "\n",
    "    return image.numpy()[0,:,:,0]\n"
   ]
  },
  {
   "cell_type": "code",
   "execution_count": 140,
   "metadata": {},
   "outputs": [],
   "source": [
    "class CoolFigure:\n",
    "    def __init__(self):\n",
    "        for n in range(10):\n",
    "            print(f'Generating image {n}')\n",
    "            vars(self)[f'{n}_image'] = give_image(n)"
   ]
  },
  {
   "cell_type": "code",
   "execution_count": 141,
   "metadata": {},
   "outputs": [
    {
     "name": "stderr",
     "output_type": "stream",
     "text": [
      "  0%|          | 17/10000 [00:00<01:00, 163.74it/s]"
     ]
    },
    {
     "name": "stdout",
     "output_type": "stream",
     "text": [
      "Generating image 0\n"
     ]
    },
    {
     "name": "stderr",
     "output_type": "stream",
     "text": [
      "100%|██████████| 10000/10000 [00:57<00:00, 172.80it/s]\n",
      "  0%|          | 17/10000 [00:00<00:59, 167.12it/s]"
     ]
    },
    {
     "name": "stdout",
     "output_type": "stream",
     "text": [
      "Generating image 1\n"
     ]
    },
    {
     "name": "stderr",
     "output_type": "stream",
     "text": [
      "100%|██████████| 10000/10000 [00:57<00:00, 173.41it/s]\n",
      "  0%|          | 18/10000 [00:00<00:55, 178.95it/s]"
     ]
    },
    {
     "name": "stdout",
     "output_type": "stream",
     "text": [
      "Generating image 2\n"
     ]
    },
    {
     "name": "stderr",
     "output_type": "stream",
     "text": [
      "100%|██████████| 10000/10000 [00:59<00:00, 168.39it/s]\n",
      "  0%|          | 19/10000 [00:00<00:54, 183.23it/s]"
     ]
    },
    {
     "name": "stdout",
     "output_type": "stream",
     "text": [
      "Generating image 3\n"
     ]
    },
    {
     "name": "stderr",
     "output_type": "stream",
     "text": [
      "100%|██████████| 10000/10000 [00:58<00:00, 171.98it/s]\n",
      "  0%|          | 18/10000 [00:00<00:57, 174.18it/s]"
     ]
    },
    {
     "name": "stdout",
     "output_type": "stream",
     "text": [
      "Generating image 4\n"
     ]
    },
    {
     "name": "stderr",
     "output_type": "stream",
     "text": [
      "100%|██████████| 10000/10000 [00:57<00:00, 172.90it/s]\n",
      "  0%|          | 15/10000 [00:00<01:06, 149.05it/s]"
     ]
    },
    {
     "name": "stdout",
     "output_type": "stream",
     "text": [
      "Generating image 5\n"
     ]
    },
    {
     "name": "stderr",
     "output_type": "stream",
     "text": [
      "100%|██████████| 10000/10000 [00:58<00:00, 170.36it/s]\n",
      "  0%|          | 17/10000 [00:00<00:59, 167.35it/s]"
     ]
    },
    {
     "name": "stdout",
     "output_type": "stream",
     "text": [
      "Generating image 6\n"
     ]
    },
    {
     "name": "stderr",
     "output_type": "stream",
     "text": [
      "100%|██████████| 10000/10000 [00:58<00:00, 169.93it/s]\n",
      "  0%|          | 18/10000 [00:00<00:58, 171.44it/s]"
     ]
    },
    {
     "name": "stdout",
     "output_type": "stream",
     "text": [
      "Generating image 7\n"
     ]
    },
    {
     "name": "stderr",
     "output_type": "stream",
     "text": [
      "100%|██████████| 10000/10000 [00:59<00:00, 167.68it/s]\n",
      "  0%|          | 18/10000 [00:00<00:57, 174.99it/s]"
     ]
    },
    {
     "name": "stdout",
     "output_type": "stream",
     "text": [
      "Generating image 8\n"
     ]
    },
    {
     "name": "stderr",
     "output_type": "stream",
     "text": [
      "100%|██████████| 10000/10000 [00:59<00:00, 169.15it/s]\n",
      "  0%|          | 17/10000 [00:00<00:59, 168.31it/s]"
     ]
    },
    {
     "name": "stdout",
     "output_type": "stream",
     "text": [
      "Generating image 9\n"
     ]
    },
    {
     "name": "stderr",
     "output_type": "stream",
     "text": [
      "100%|██████████| 10000/10000 [00:58<00:00, 170.84it/s]\n"
     ]
    }
   ],
   "source": [
    "cool_fig = CoolFigure()"
   ]
  },
  {
   "cell_type": "code",
   "execution_count": 162,
   "metadata": {},
   "outputs": [
    {
     "data": {
      "image/png": "[encoded data removed]",
      "text/plain": [
       "<Figure size 720x1800 with 10 Axes>"
      ]
     },
     "metadata": {},
     "output_type": "display_data"
    }
   ],
   "source": [
    "fig, axes = plt.subplots(5,2,figsize=(10,25))\n",
    "for n in range(10):\n",
    "    axis = axes.flatten()[n]\n",
    "    img = vars(cool_fig)[f'{n}_image']\n",
    "    \n",
    "    axis.imshow(img, cmap='binary')\n",
    "    axis.set_title(n)\n",
    "    axis.axis('off')\n",
    "    \n",
    "plt.tight_layout(w_pad=5)"
   ]
  },
  {
   "cell_type": "code",
   "execution_count": null,
   "metadata": {},
   "outputs": [],
   "source": []
  }
 ],
 "metadata": {
  "kernelspec": {
   "display_name": "Python 3",
   "language": "python",
   "name": "python3"
  },
  "language_info": {
   "codemirror_mode": {
    "name": "ipython",
    "version": 3
   },
   "file_extension": ".py",
   "mimetype": "text/x-python",
   "name": "python",
   "nbconvert_exporter": "python",
   "pygments_lexer": "ipython3",
   "version": "3.8.5"
  }
 },
 "nbformat": 4,
 "nbformat_minor": 4
}
